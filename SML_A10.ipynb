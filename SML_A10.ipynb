{
  "nbformat": 4,
  "nbformat_minor": 0,
  "metadata": {
    "colab": {
      "provenance": [],
      "authorship_tag": "ABX9TyNXO+njq7weREBEpalRa2nU",
      "include_colab_link": true
    },
    "kernelspec": {
      "name": "python3",
      "display_name": "Python 3"
    },
    "language_info": {
      "name": "python"
    }
  },
  "cells": [
    {
      "cell_type": "markdown",
      "metadata": {
        "id": "view-in-github",
        "colab_type": "text"
      },
      "source": [
        "<a href=\"https://colab.research.google.com/github/2303A51531/STAT-ML-39/blob/main/SML_A10.ipynb\" target=\"_parent\"><img src=\"https://colab.research.google.com/assets/colab-badge.svg\" alt=\"Open In Colab\"/></a>"
      ]
    },
    {
      "cell_type": "code",
      "source": [
        "\n",
        "import pandas as pd\n",
        "from sklearn.model_selection import train_test_split\n",
        "from sklearn.neighbors import KNeighborsClassifier\n",
        "from sklearn.metrics import accuracy_score\n",
        "from sklearn.impute import SimpleImputer\n",
        "from sklearn.preprocessing import LabelEncoder\n",
        "# Import LabelEncoder\n",
        "# Load the data\n",
        "data = pd.read_csv('breast_cancer_survival.csv')\n"
      ],
      "metadata": {
        "id": "tA2BaTDWYJTg"
      },
      "execution_count": 11,
      "outputs": []
    },
    {
      "cell_type": "code",
      "source": [
        "# Display the first few rows of the dataset and data types to investigate potential issues\n",
        "print(\"First few rows of the dataset:\")\n",
        "print(data.head())\n"
      ],
      "metadata": {
        "colab": {
          "base_uri": "https://localhost:8080/"
        },
        "id": "O_fWMR2uYQy1",
        "outputId": "817835de-bc63-423e-99b6-26042b8a8ade"
      },
      "execution_count": 12,
      "outputs": [
        {
          "output_type": "stream",
          "name": "stdout",
          "text": [
            "First few rows of the dataset:\n",
            "   Age  Gender  Protein1  Protein2  Protein3  Protein4 Tumour_Stage  \\\n",
            "0   42  FEMALE   0.95256   2.15000  0.007972 -0.048340           II   \n",
            "1   54  FEMALE   0.00000   1.38020 -0.498030 -0.507320           II   \n",
            "2   63  FEMALE  -0.52303   1.76400 -0.370190  0.010815           II   \n",
            "3   78  FEMALE  -0.87618   0.12943 -0.370380  0.132190            I   \n",
            "4   42  FEMALE   0.22611   1.74910 -0.543970 -0.390210           II   \n",
            "\n",
            "                       Histology ER status PR status HER2 status Surgery_type  \\\n",
            "0  Infiltrating Ductal Carcinoma  Positive  Positive    Negative        Other   \n",
            "1  Infiltrating Ductal Carcinoma  Positive  Positive    Negative        Other   \n",
            "2  Infiltrating Ductal Carcinoma  Positive  Positive    Negative   Lumpectomy   \n",
            "3  Infiltrating Ductal Carcinoma  Positive  Positive    Negative        Other   \n",
            "4  Infiltrating Ductal Carcinoma  Positive  Positive    Positive   Lumpectomy   \n",
            "\n",
            "  Date_of_Surgery Date_of_Last_Visit Patient_Status  \n",
            "0       20-May-18          26-Aug-18          Alive  \n",
            "1       26-Apr-18          25-Jan-19           Dead  \n",
            "2       24-Aug-18          08-Apr-20          Alive  \n",
            "3       16-Nov-18          28-Jul-20          Alive  \n",
            "4       12-Dec-18          05-Jan-19          Alive  \n"
          ]
        }
      ]
    },
    {
      "cell_type": "code",
      "source": [
        "print(\"\\nColumn data types:\")\n",
        "print(data.dtypes)\n",
        "\n",
        "# Display column names to identify features and target variable\n",
        "print(\"\\nColumn names in the dataset:\")\n",
        "print(data.columns)\n"
      ],
      "metadata": {
        "colab": {
          "base_uri": "https://localhost:8080/"
        },
        "id": "giOHr8v8YafH",
        "outputId": "96b2b77a-ace2-49ab-a1a7-90f3cdf433d9"
      },
      "execution_count": 13,
      "outputs": [
        {
          "output_type": "stream",
          "name": "stdout",
          "text": [
            "\n",
            "Column data types:\n",
            "Age                     int64\n",
            "Gender                 object\n",
            "Protein1              float64\n",
            "Protein2              float64\n",
            "Protein3              float64\n",
            "Protein4              float64\n",
            "Tumour_Stage           object\n",
            "Histology              object\n",
            "ER status              object\n",
            "PR status              object\n",
            "HER2 status            object\n",
            "Surgery_type           object\n",
            "Date_of_Surgery        object\n",
            "Date_of_Last_Visit     object\n",
            "Patient_Status         object\n",
            "dtype: object\n",
            "\n",
            "Column names in the dataset:\n",
            "Index(['Age', 'Gender', 'Protein1', 'Protein2', 'Protein3', 'Protein4',\n",
            "       'Tumour_Stage', 'Histology', 'ER status', 'PR status', 'HER2 status',\n",
            "       'Surgery_type', 'Date_of_Surgery', 'Date_of_Last_Visit',\n",
            "       'Patient_Status'],\n",
            "      dtype='object')\n"
          ]
        }
      ]
    },
    {
      "cell_type": "code",
      "source": [
        "# Preprocess the data by handling non-numeric values and missing values\n",
        "# Assuming 'Patient_Status' is the target variable and needs to be encoded\n",
        "# Separate features (X) and target (y) first\n",
        "X = data.drop('Patient_Status', axis=1)  # Features (all columns except 'Patient_Status')\n",
        "y = data['Patient_Status']  # Target variable ('Patient_Status')\n",
        "# Convert non-numeric columns in X to numeric, if needed\n"
      ],
      "metadata": {
        "id": "VEeNEoUMYmi3"
      },
      "execution_count": 14,
      "outputs": []
    },
    {
      "cell_type": "code",
      "source": [
        "for column in X.select_dtypes(include=['object']).columns:\n",
        "    try:\n",
        "        X[column] = pd.to_numeric(X[column], errors='raise')  # Try to convert to numeric\n",
        "    except ValueError:\n",
        "        print(f\"Column '{column}' could not be converted to numeric and will be dropped.\")\n",
        "        X = X.drop(column, axis=1)  # Drop the column if conversion fails\n"
      ],
      "metadata": {
        "colab": {
          "base_uri": "https://localhost:8080/"
        },
        "id": "f-Mktt9OYqr1",
        "outputId": "1c632199-8e4b-42af-d47e-d2dc6e21caf9"
      },
      "execution_count": 15,
      "outputs": [
        {
          "output_type": "stream",
          "name": "stdout",
          "text": [
            "Column 'Gender' could not be converted to numeric and will be dropped.\n",
            "Column 'Tumour_Stage' could not be converted to numeric and will be dropped.\n",
            "Column 'Histology' could not be converted to numeric and will be dropped.\n",
            "Column 'ER status' could not be converted to numeric and will be dropped.\n",
            "Column 'PR status' could not be converted to numeric and will be dropped.\n",
            "Column 'HER2 status' could not be converted to numeric and will be dropped.\n",
            "Column 'Surgery_type' could not be converted to numeric and will be dropped.\n",
            "Column 'Date_of_Surgery' could not be converted to numeric and will be dropped.\n",
            "Column 'Date_of_Last_Visit' could not be converted to numeric and will be dropped.\n"
          ]
        }
      ]
    },
    {
      "cell_type": "code",
      "source": [
        "# Impute missing values using SimpleImputer for features (X)\n",
        "imputer = SimpleImputer(strategy='mean')  # Create an imputer instance\n",
        "X = imputer.fit_transform(X)  # Fit and transform the imputer on X\n",
        "\n",
        "# Encode the target variable ('Patient_Status') if it's categorical\n",
        "if y.dtype == 'object':  # Check if the target variable is of object type (categorical)\n",
        "    label_encoder = LabelEncoder()\n",
        "    y = label_encoder.fit_transform(y)\n"
      ],
      "metadata": {
        "id": "a0l2TreBYuPT"
      },
      "execution_count": 16,
      "outputs": []
    },
    {
      "cell_type": "code",
      "source": [
        "# Train and evaluate KNN model with different test sizes\n",
        "test_sizes = [0.1, 0.2, 0.3, 0.4, 0.5]\n",
        "accuracy_results = {}\n",
        "\n",
        "for size in test_sizes:\n",
        "    # Split data into training and test sets\n",
        "    X_train, X_test, y_train, y_test = train_test_split(X, y, test_size=size, random_state=42)\n",
        "\n",
        "    # Initialize and train KNN model\n",
        "    knn = KNeighborsClassifier(n_neighbors=5)\n",
        "    knn.fit(X_train, y_train)\n",
        "\n",
        "    # Make predictions\n"
      ],
      "metadata": {
        "id": "R9C1gvlBYyl0"
      },
      "execution_count": 17,
      "outputs": []
    },
    {
      "cell_type": "code",
      "source": [
        "    y_pred = knn.predict(X_test)\n",
        "\n",
        "    # Calculate accuracy\n",
        "    accuracy = accuracy_score(y_test, y_pred)\n",
        "    accuracy_results[size] = accuracy\n",
        "    print(f\"Accuracy with test size {size}: {accuracy:.2f}\")\n",
        "\n",
        "# Display the accuracy results for different test sizes\n",
        "print(\"\\nAccuracy results for different test sizes:\")\n",
        "for size, accuracy in accuracy_results.items():\n",
        " print(f\"Test size {size}: {accuracy:.2f}\")\n",
        "\n"
      ],
      "metadata": {
        "colab": {
          "base_uri": "https://localhost:8080/"
        },
        "id": "9W3wm07VY2ZT",
        "outputId": "3cce5d0d-48f4-41c1-e570-54a3b465986a"
      },
      "execution_count": 19,
      "outputs": [
        {
          "output_type": "stream",
          "name": "stdout",
          "text": [
            "Accuracy with test size 0.5: 0.72\n",
            "\n",
            "Accuracy results for different test sizes:\n",
            "Test size 0.5: 0.72\n"
          ]
        }
      ]
    }
  ]
}