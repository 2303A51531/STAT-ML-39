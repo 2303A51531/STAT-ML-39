{
  "nbformat": 4,
  "nbformat_minor": 0,
  "metadata": {
    "colab": {
      "provenance": [],
      "authorship_tag": "ABX9TyPl48U1RtIkiz7n3RsnW5hm",
      "include_colab_link": true
    },
    "kernelspec": {
      "name": "python3",
      "display_name": "Python 3"
    },
    "language_info": {
      "name": "python"
    }
  },
  "cells": [
    {
      "cell_type": "markdown",
      "metadata": {
        "id": "view-in-github",
        "colab_type": "text"
      },
      "source": [
        "<a href=\"https://colab.research.google.com/github/2303A51531/STAT-ML-39/blob/main/sml__12.ipynb\" target=\"_parent\"><img src=\"https://colab.research.google.com/assets/colab-badge.svg\" alt=\"Open In Colab\"/></a>"
      ]
    },
    {
      "cell_type": "code",
      "execution_count": 1,
      "metadata": {
        "id": "04vGxSEZIADU"
      },
      "outputs": [],
      "source": [
        "# Import necessary libraries\n",
        "import pandas as pd\n",
        "from sklearn.model_selection import train_test_split\n",
        "from sklearn.preprocessing import StandardScaler, LabelEncoder\n",
        "from sklearn.impute import SimpleImputer\n",
        "from sklearn.svm import SVC\n",
        "from sklearn.neighbors import KNeighborsClassifier\n",
        "from sklearn.linear_model import LogisticRegression\n",
        "from sklearn.metrics import accuracy_score\n",
        "import numpy as np\n",
        "import matplotlib.pyplot as plt\n",
        "import seaborn as sns\n",
        "from sklearn.utils import resample\n",
        "\n"
      ]
    },
    {
      "cell_type": "code",
      "source": [
        "# Load the dataset\n",
        "file_path = '/content/breast_cancer_survival csv'  # Replace with your local file path\n",
        "data = pd.read_csv(file_path)\n",
        "\n",
        "# Impute missing values in target variable 'Patient_Status'\n",
        "imputer = SimpleImputer(strategy='most_frequent')\n",
        "# The input to fit_transform should be 1D for 'most_frequent' strategy\n",
        "data['Patient_Status'] = imputer.fit_transform(data['Patient_Status'].values.reshape(-1, 1))[:, 0]\n",
        "# Extracting the first (and only) column from the output of fit_transform to make it 1D\n",
        "# Encode categorical variables\n",
        "categorical_features = ['Gender', 'Tumour_Stage', 'Histology', 'ER status',\n",
        "                        'PR status', 'HER2 status', 'Surgery_type']\n",
        "label_encoders = {col: LabelEncoder() for col in categorical_features}\n",
        "for col in categorical_features:\n",
        "    data[col] = label_encoders[col].fit_transform(data[col])\n"
      ],
      "metadata": {
        "id": "bO5S_2mWIJrl"
      },
      "execution_count": 3,
      "outputs": []
    },
    {
      "cell_type": "code",
      "source": [
        "\n",
        "# Encode target variable\n",
        "target_encoder = LabelEncoder()\n",
        "data['Patient_Status'] = target_encoder.fit_transform(data['Patient_Status'])\n",
        "\n",
        "# Select features and target\n",
        "features = ['Age', 'Protein1', 'Protein2', 'Protein3', 'Protein4'] + categorical_features\n",
        "X = data[features]\n",
        "y = data['Patient_Status']\n",
        "\n",
        "# Standardize numerical features\n",
        "scaler = StandardScaler()\n",
        "X_scaled = scaler.fit_transform(X)\n",
        "\n",
        "# Split data into train and test sets\n",
        "X_train, X_test, y_train, y_test = train_test_split(X_scaled, y, test_size=0.3, random_state=42)\n",
        "\n",
        "# Initialize models\n",
        "models = {\n",
        "    'SVM': SVC(probability=True, random_state=42),\n",
        "    'KNN': KNeighborsClassifier(),\n",
        "    'Logistic Regression': LogisticRegression(random_state=42)\n",
        "}\n"
      ],
      "metadata": {
        "id": "mtU7fl4TIahl"
      },
      "execution_count": 4,
      "outputs": []
    },
    {
      "cell_type": "code",
      "source": [
        "\n",
        "# Train models and calculate accuracy\n",
        "accuracies = {}\n",
        "for model_name, model in models.items():\n",
        "    model.fit(X_train, y_train)\n",
        "    y_pred = model.predict(X_test)\n",
        "    accuracies[model_name] = accuracy_score(y_test, y_pred)\n",
        "\n",
        "# Print model accuracies\n",
        "print(\"Model Accuracies:\")\n",
        "for model_name, accuracy in accuracies.items():\n",
        "    print(f\"{model_name}: {accuracy:.2f}\")\n",
        "\n",
        "# Function to perform bootstrapping and plot results\n",
        "def bootstrap_plot(model, model_name, X_train, y_train, X_test, y_test, n_iterations=1000):\n",
        "    bootstrapped_accuracies = []\n",
        "\n",
        "    for _ in range(n_iterations):\n",
        "        # Resample training data with replacement\n",
        "        X_resample, y_resample = resample(X_train, y_train)\n",
        "        model.fit(X_resample, y_resample)\n",
        "        y_pred = model.predict(X_test)\n",
        "        bootstrapped_accuracies.append(accuracy_score(y_test, y_pred))\n"
      ],
      "metadata": {
        "colab": {
          "base_uri": "https://localhost:8080/"
        },
        "id": "4kCAFJVHIfRk",
        "outputId": "6ec6f651-5ac0-4697-e105-bd8741f953b9"
      },
      "execution_count": 5,
      "outputs": [
        {
          "output_type": "stream",
          "name": "stdout",
          "text": [
            "Model Accuracies:\n",
            "SVM: 0.81\n",
            "KNN: 0.76\n",
            "Logistic Regression: 0.81\n"
          ]
        }
      ]
    }
  ]
}